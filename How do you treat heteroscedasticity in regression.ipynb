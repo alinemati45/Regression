{
 "cells": [
  {
   "cell_type": "markdown",
   "metadata": {},
   "source": [
    "# Intro\n",
    "\n",
    "Heteroscedasticity {هتروسیداستیک} means unequal scatter. In regression analysis, we talk about heteroscedasticity in the context of the `residuals or error` term. Specifically, heteroscedasticity is a systematic change in the spread of the residuals over the range of measured values. Heteroscedasticity is a problem because ordinary least squares (OLS) regression assumes that all residuals are drawn from a population that has a constant variance (homoscedasticity).\n",
    "\n",
    "To satisfy the regression assumptions and be able to trust the results, the residuals should have a constant variance. \n",
    "\n",
    "https://www.stat.cmu.edu/~cshalizi/350/lectures/18/lecture-18.pdf\n",
    "\n",
    "\n",
    "https://statisticsbyjim.com/regression/heteroscedasticity-regression"
   ]
  },
  {
   "cell_type": "markdown",
   "metadata": {},
   "source": [
    "# How to Identify Heteroscedasticity with Residual Plots\n",
    "\n",
    "\n",
    "Heteroscedasticity produces a distinctive fan or cone shape in residual plots. To check for heteroscedasticity, you need to assess the residuals by fitted value plots specifically. Typically, the telltale pattern for heteroscedasticity is that as the fitted values increases, the variance of the residuals also increases.\n",
    "\n",
    "![](./i/heteroscedasticity_regression.png)"
   ]
  },
  {
   "cell_type": "markdown",
   "metadata": {},
   "source": [
    "# What Causes Heteroscedasticity?\n",
    "\n",
    "Heteroscedasticity, also spelled heteroskedasticity, occurs more often in datasets that have `a large range between the largest and smallest observed values`. While there are numerous reasons why heteroscedasticity can exist, a common explanation is that the error variance changes proportionally with a factor. This factor might be a variable in the model.\n",
    "\n",
    "In some cases, the variance increases proportionally with this factor but remains constant as a percentage. For instance, a 10% change in a number such as 100 is much smaller than a 10% change in a large number such as 100,000. In this scenario, you expect to see larger residuals associated with higher values. That’s why you need to be careful when working with wide ranges of values!\n",
    "\n",
    "Because large ranges are associated with this problem, some types of models are more prone to heteroscedasticity.\n",
    "\n",
    "\n",
    "\n",
    "# Heteroscedasticity in cross-sectional studies\n",
    "Cross-sectional studies often have very small and large values and,\n",
    "thus, are more likely to have heteroscedasticity. For example, a crosssectional study that involves the United States can have very low values for Delaware and very high values for California. Similarly, crosssectional studies of incomes can have a range that extends from poverty to billionaires.\n",
    "\n",
    "\n",
    "\n",
    "# Heteroscedasticity in time-series models\n",
    "\n",
    "A time-series model can have heteroscedasticity if the dependent variable changes significantly from the beginning to the end of the series. For example, if we model the sales of DVD players from their first sales in 2000 to the present, the number of units sold will be vastly different. Additionally, if you’re modeling time series data and measurement error changes over time, heteroscedasticity can be present because regression analysis includes measurement error in the error term. For example, if measurement error decreases over time as better methods are introduced, you’d expect the error variance to diminish over time as well.\n",
    "\n",
    "# Example of heteroscedasticity\n",
    "Let’s take a look at a classic example of heteroscedasticity. If you\n",
    "model household consumption based on income, you’ll find that the\n",
    "variability in consumption increases as income increases. Lower income households are less variable in absolute terms because they need\n",
    "to focus on necessities and there is less room for different spending\n",
    "habits. Higher income households can purchase a wide variety of luxury items, or not, which results in a broader spread of spending habits.\n",
    "\n",
    "# Pure versus impure heteroscedasticity\n",
    "You can categorize heteroscedasticity into two general types.\n",
    "\n",
    "1. Pure heteroscedasticity refers to cases where you specify the correct model and yet you observe non-constant variance in the residual plots.\n",
    "2.  Impure heteroscedasticity refers to cases where you incorrectly specify the model, and that causes the non-constant variance. When you leave an important variable out of a model, the omitted effect is absorbed into the error term. If the effect of the omitted variable varies throughout the observed range of data, it can produce the telltale signs of heteroscedasticity in the residual plots.\n",
    "\n",
    "\n",
    "When you observe heteroscedasticity in the residual plots, it is important to determine whether you have pure or impure heteroscedasticity because the solutions are different. If you have the impure form,\n",
    "you need to identify the important variable(s) that have been left out\n",
    "of the model and refit the model with those variables. \n",
    "\n",
    "The causes for heteroscedasticity vary widely by subject-area. If you\n",
    "detect heteroscedasticity in your model, you’ll need to use your expertise to understand why it occurs. Often, the key is to identify the proportional factor that is associated with the changing variance.\n",
    "\n",
    "\n",
    "\n",
    "# What Problems Does Heteroscedasticity Cause?\n",
    "As I mentioned earlier, linear regression assumes that the spread of\n",
    "the residuals is constant across the plot. Anytime that you violate an\n",
    "assumption, there is a chance that you can’t trust the statistical results.\n",
    "Why fix this problem? There are two big reasons why you want homoscedasticity:\n",
    "\n",
    "- While heteroscedasticity does not cause bias in the coefficient estimates, it does make them less precise. Lower precision increases the likelihood that the coefficient estimates are further from the correct population value.\n",
    "\n",
    "- Heteroscedasticity tends to produce p-values that are smaller than they should be. This effect occurs because heteroscedasticity increases the variance of the coefficient estimates but the OLS procedure does not detect this increase. Consequently, OLS calculates the t-values and F-values using an underestimated amount of variance. This problem can lead you to conclude that a model term is statistically significant when it is actually not significant.\n",
    "\n",
    "\n",
    "# How to Fix Heteroscedasticity\n",
    "If you can figure out the reason for the heteroscedasticity, you might\n",
    "be able to correct it and improve your model. \n",
    "These methods\n",
    "are appropriate for pure heteroscedasticity but are not necessarily\n",
    "valid for the impure form.\n",
    "\n",
    "We’ll use Accident as the dependent variable and Population for the independent variable.\n",
    "## Redefining the variables\n",
    "\n",
    "If your model is a cross-sectional model that includes large differences\n",
    "between the sizes of the observations, you can find different ways to\n",
    "specify the model that reduces the impact of the size differential. To\n",
    "do this, change the model from using the raw measure to using rates\n",
    "and per capita values. Of course, this type of model answers a slightly\n",
    "different kind of question. You’ll need to determine whether this approach is suitable for both your data and what you need to learn.\n",
    "\n",
    "![](./i/Redefining.png)\n",
    "\n",
    "However, we can change the model so that we use population to predict the accident rate. This approach discounts the impact of scale and gets to the underlying behavior. Let’s try this with our example data set. I’ll use Accident Rate as the dependent variable and Population as the independent variable. The residual plot is below.\n",
    "\n",
    "The residuals by fitted value plot looks better. If it weren’t for a few pesky values in the very high range, it would be useable. If this approach had produced homoscedasticity, I would stick with this solution and not use the following methods.\n",
    "\n",
    "\n",
    "## Weighted regression\n",
    "Weighted regression is a method that assigns each data point a weight based on the variance of its fitted value. The idea is to give small weights to observations associated with higher variances to shrink their squared residuals. Weighted regression minimizes the sum of the weighted squared residuals. When you use the correct weights, heteroscedasticity is replaced by homoscedasticity.\n",
    "\n",
    "For weighted regression, it is important to assess the standardized residuals because only that type of residual will show us that weighted regression fixed the heteroscedasticity.\n",
    "\n",
    "\n",
    "## Transform the dependent variable\n",
    "I always save transforming the data for the last resort because it involves the most manipulation. It also makes interpreting the results very difficult because the units of your data are gone. The idea is that you transform your original data into different values that produce good looking residuals. If nothing else works, try a transformation to produce homoscedasticity.\n",
    "\n",
    "I’ll refit the original model but use a Box-Cox transformation on the dependent variable."
   ]
  },
  {
   "cell_type": "code",
   "execution_count": 7,
   "metadata": {
    "ExecuteTime": {
     "end_time": "2021-08-03T04:26:49.054683Z",
     "start_time": "2021-08-03T04:26:49.033739Z"
    }
   },
   "outputs": [
    {
     "data": {
      "text/plain": [
       "['Accidents', 'AccidentRate', 'Population', 'Weight']"
      ]
     },
     "execution_count": 7,
     "metadata": {},
     "output_type": "execute_result"
    }
   ],
   "source": [
    "import pandas as pd\n",
    "import matplotlib.pyplot as plt\n",
    "df  = pd.read_csv(\"Heteroscedasticity.csv\")\n",
    "\n",
    "list(df)"
   ]
  },
  {
   "cell_type": "code",
   "execution_count": 11,
   "metadata": {
    "ExecuteTime": {
     "end_time": "2021-08-03T04:27:44.125460Z",
     "start_time": "2021-08-03T04:27:43.997765Z"
    }
   },
   "outputs": [
    {
     "data": {
      "image/png": "[encoded data removed]",
      "text/plain": [
       "<Figure size 432x288 with 1 Axes>"
      ]
     },
     "metadata": {
      "needs_background": "light"
     },
     "output_type": "display_data"
    }
   ],
   "source": [
    "import numpy as np\n",
    "import matplotlib.pyplot as plt\n",
    "from sklearn.linear_model import LinearRegression\n",
    "X_train = df['Population'].values.reshape(-1,1)\n",
    "y_train = df['AccidentRate'].values.reshape(-1,1)\n",
    "\n",
    "plt.scatter(X_train, y_train)\n",
    "plt.show()"
   ]
  },
  {
   "cell_type": "code",
   "execution_count": 12,
   "metadata": {
    "ExecuteTime": {
     "end_time": "2021-08-03T04:27:58.068883Z",
     "start_time": "2021-08-03T04:27:57.952625Z"
    }
   },
   "outputs": [
    {
     "data": {
      "image/png": "[encoded data removed]",
      "text/plain": [
       "<Figure size 432x288 with 1 Axes>"
      ]
     },
     "metadata": {
      "needs_background": "light"
     },
     "output_type": "display_data"
    }
   ],
   "source": [
    "X_train = df['Population'].values.reshape(-1,1)\n",
    "y_train = df['Accidents'].values.reshape(-1,1)\n",
    "\n",
    "plt.scatter(X_train, y_train)\n",
    "plt.show()"
   ]
  }
 ],
 "metadata": {
  "kernelspec": {
   "display_name": "tensorflow",
   "language": "python",
   "name": "tensorflow"
  },
  "language_info": {
   "codemirror_mode": {
    "name": "ipython",
    "version": 3
   },
   "file_extension": ".py",
   "mimetype": "text/x-python",
   "name": "python",
   "nbconvert_exporter": "python",
   "pygments_lexer": "ipython3",
   "version": "3.7.7"
  },
  "toc": {
   "base_numbering": 1,
   "nav_menu": {},
   "number_sections": true,
   "sideBar": true,
   "skip_h1_title": false,
   "title_cell": "Table of Contents",
   "title_sidebar": "Contents",
   "toc_cell": false,
   "toc_position": {},
   "toc_section_display": true,
   "toc_window_display": false
  }
 },
 "nbformat": 4,
 "nbformat_minor": 4
}
